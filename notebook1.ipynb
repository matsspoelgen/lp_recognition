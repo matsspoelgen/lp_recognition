{
 "cells": [
  {
   "cell_type": "markdown",
   "metadata": {},
   "source": [
    "### Create train, test, validation split"
   ]
  },
  {
   "cell_type": "code",
   "execution_count": 6,
   "metadata": {},
   "outputs": [],
   "source": [
    "import os\n",
    "import random\n",
    "\n",
    "all_images_dir = \"all_images\"\n",
    "split_dir = \"split\"\n",
    "names_file = split_dir + \"/all_names.txt\"\n",
    "seleted_names_file = split_dir + \"/selected_names.txt\"\n",
    "train_names = split_dir + \"/train.txt\"\n",
    "test_names = split_dir + \"/test.txt\"\n",
    "valid_names = split_dir + \"/valid.txt\"\n",
    "num_images = 10_000\n",
    "\n",
    "# create a new txt file which has all file names in the data_path\n",
    "with open(names_file, \"w\") as f:\n",
    "    for root, dirs, files in os.walk(all_images_dir):\n",
    "        for filename in files:\n",
    "            f.write(filename + \"\\n\")\n",
    "\n",
    "# create a new file which has num_images randomly selected file names of the all_names.txt\n",
    "with open(names_file, \"r\") as f:\n",
    "    lines = f.readlines()\n",
    "    random.shuffle(lines)\n",
    "    with open(seleted_names_file, \"w\") as f2:\n",
    "        for i in range(num_images):\n",
    "            f2.write(lines[i])\n",
    "\n",
    "# Read file names from \"file_names.txt\"\n",
    "with open(seleted_names_file, \"r\") as file:\n",
    "    file_names = file.readlines()\n",
    "\n",
    "# Remove leading and trailing whitespaces from each file name\n",
    "file_names = [name.strip() for name in file_names]\n",
    "\n",
    "# Shuffle the file names\n",
    "random.shuffle(file_names)\n",
    "\n",
    "# Calculate split indices\n",
    "total_files = len(file_names)\n",
    "train_split = int(0.8 * total_files)\n",
    "test_split = int(0.1 * total_files)\n",
    "\n",
    "# Split the file names into train, test, and validation sets\n",
    "train_files = file_names[:train_split]\n",
    "test_files = file_names[train_split:train_split + test_split]\n",
    "valid_files = file_names[train_split + test_split:]\n",
    "\n",
    "# Write the file names into separate files\n",
    "def write_file(file_path, data):\n",
    "    with open(file_path, \"w\") as file:\n",
    "        file.write(\"\\n\".join(data))\n",
    "\n",
    "write_file(train_names, train_files)\n",
    "write_file(test_names, test_files)\n",
    "write_file(valid_names, valid_files)"
   ]
  },
  {
   "cell_type": "code",
   "execution_count": 7,
   "metadata": {},
   "outputs": [],
   "source": [
    "provinces = [\"皖\", \"沪\", \"津\", \"渝\", \"冀\", \"晋\", \"蒙\", \"辽\", \"吉\", \"黑\", \"苏\", \"浙\", \"京\", \"闽\", \"赣\", \"鲁\", \"豫\", \"鄂\", \"湘\", \"粤\", \"桂\", \"琼\", \"川\", \"贵\", \"云\", \"藏\", \"陕\", \"甘\", \"青\", \"宁\", \"新\", \"警\", \"学\", \"O\"]\n",
    "alphabets = ['A', 'B', 'C', 'D', 'E', 'F', 'G', 'H', 'J', 'K', 'L', 'M', 'N', 'P', 'Q', 'R', 'S', 'T', 'U', 'V', 'W',\n",
    "             'X', 'Y', 'Z', 'O']\n",
    "ads = ['A', 'B', 'C', 'D', 'E', 'F', 'G', 'H', 'J', 'K', 'L', 'M', 'N', 'P', 'Q', 'R', 'S', 'T', 'U', 'V', 'W', 'X',\n",
    "       'Y', 'Z', '0', '1', '2', '3', '4', '5', '6', '7', '8', '9', 'O']"
   ]
  },
  {
   "cell_type": "markdown",
   "metadata": {},
   "source": [
    "### Convert to YOLO format for LP Detection"
   ]
  },
  {
   "cell_type": "code",
   "execution_count": null,
   "metadata": {},
   "outputs": [],
   "source": [
    "def get_label_from_file_name(file_name):\n",
    "    attributes = file_name.split(\"&\")\n",
    "    province = attributes[0]\n",
    "    alphabet = attributes[1]\n",
    "    ad = attributes[2]\n",
    "    return f\"{provinces.index(province)} {alphabets.index(alphabet)} {ads.index(ad)}\"\n",
    "\n",
    "for root, dirs, files in os.walk(all_images_dir):\n",
    "    for filename in files:1"
   ]
  },
  {
   "cell_type": "code",
   "execution_count": null,
   "metadata": {},
   "outputs": [],
   "source": []
  }
 ],
 "metadata": {
  "kernelspec": {
   "display_name": "Python 3",
   "language": "python",
   "name": "python3"
  },
  "language_info": {
   "codemirror_mode": {
    "name": "ipython",
    "version": 3
   },
   "file_extension": ".py",
   "mimetype": "text/x-python",
   "name": "python",
   "nbconvert_exporter": "python",
   "pygments_lexer": "ipython3",
   "version": "3.11.5"
  }
 },
 "nbformat": 4,
 "nbformat_minor": 2
}
