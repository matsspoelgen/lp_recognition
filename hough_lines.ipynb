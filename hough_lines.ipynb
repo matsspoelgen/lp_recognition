{
 "cells": [
  {
   "cell_type": "code",
   "execution_count": 112,
   "metadata": {},
   "outputs": [],
   "source": [
    "import cv2\n",
    "import numpy as np\n",
    "import os\n",
    "\n",
    "lp_images_path = 'selection/'\n",
    "lp_width_px = 300\n",
    "lp_height_px = 100\n",
    "lp_images = os.listdir(lp_images_path)"
   ]
  },
  {
   "cell_type": "code",
   "execution_count": 113,
   "metadata": {},
   "outputs": [],
   "source": [
    "def filtered_lines(lines, is_horizonal):\n",
    "    filtered = []\n",
    "    for line in lines:\n",
    "        for rho, theta in line:\n",
    "                angle = np.degrees(theta)\n",
    "                angle_threshold = 5\n",
    "\n",
    "                if is_horizonal and np.abs(angle - 90) > angle_threshold:\n",
    "                    continue\n",
    "                \n",
    "                if not is_horizonal and (angle > angle_threshold or angle < 180 - angle_threshold):\n",
    "                    continue\n",
    "\n",
    "                filtered.append([rho, theta])\n",
    "    return filtered"
   ]
  },
  {
   "cell_type": "code",
   "execution_count": 114,
   "metadata": {},
   "outputs": [],
   "source": [
    "def plot_edge_detection(threshold_1, threshold_2 ,min_length_v, max_gap_v, min_length_h, max_gap_h, img):\n",
    "    img_height, img_width, _ = img.shape\n",
    "    window_title = 'Canny Edge Detection'\n",
    "    cv2.namedWindow(window_title, cv2.WINDOW_NORMAL)\n",
    "    cv2.resizeWindow(window_title, 400, 800)\n",
    "\n",
    "    prep_1 = img.copy()\n",
    "    prep_1 = cv2.cvtColor(prep_1, cv2.COLOR_BGR2GRAY)\n",
    "    rectKern = cv2.getStructuringElement(cv2.MORPH_RECT, (200, 100))\n",
    "    prep_1 = cv2.morphologyEx(prep_1, cv2.MORPH_BLACKHAT, rectKern)\n",
    "    prep_1 = cv2.equalizeHist(prep_1)\n",
    "    prep_1 = cv2.GaussianBlur(prep_1, (3, 3), 0)\n",
    "\n",
    "    # canny edge detection\n",
    "    canny = cv2.Canny(prep_1, threshold_1, threshold_2, apertureSize=3)\n",
    "\n",
    "    # dilate and erode to close gaps\n",
    "    prep_2 = canny.copy()\n",
    "    kernel = cv2.getStructuringElement(cv2.MORPH_RECT, (10, 2))\n",
    "    prep_2 = cv2.morphologyEx(prep_2, cv2.MORPH_CLOSE, kernel)\n",
    "    kernel = cv2.getStructuringElement(cv2.MORPH_RECT, (2, 5))\n",
    "    prep_2 = cv2.morphologyEx(prep_2, cv2.MORPH_CLOSE, kernel)\n",
    "\n",
    "    images = [\n",
    "        img,\n",
    "        cv2.cvtColor(prep_1, cv2.COLOR_GRAY2RGB),\n",
    "        cv2.cvtColor(canny, cv2.COLOR_GRAY2RGB),\n",
    "        cv2.cvtColor(prep_2, cv2.COLOR_GRAY2RGB),\n",
    "    ]\n",
    "\n",
    "    # hough lines\n",
    "    hough = img.copy()\n",
    "    vertical_lines = cv2.HoughLines(prep_2, 1, np.pi/180, min_length_v, max_gap_v)\n",
    "    print(vertical_lines[0])\n",
    "\n",
    "\n",
    "    vertical_lines = filtered_lines(vertical_lines, False)\n",
    "    print(vertical_lines)\n",
    "\n",
    "    horizontal_lines = cv2.HoughLinesP(prep_2, 1, np.pi/180, min_length_h, max_gap_h)\n",
    "    horizontal_lines = filtered_lines(horizontal_lines, True)\n",
    "\n",
    "    lines = vertical_lines\n",
    "\n",
    "    if lines is not None:\n",
    "        for line in lines:\n",
    "            for rho, theta in line:\n",
    "                a = np.cos(theta)\n",
    "                b = np.sin(theta)\n",
    "                x0 = a * rho\n",
    "                y0 = b * rho\n",
    "                x1 = int(x0 + 1000 * (-b))\n",
    "                y1 = int(y0 + 1000 * (a))\n",
    "                x2 = int(x0 - 1000 * (-b))\n",
    "                y2 = int(y0 - 1000 * (a))\n",
    "\n",
    "                cv2.line(hough, (x1, y1), (x2, y2), (0, 255, 0), 2)\n",
    "        images.append(hough)\n",
    "\n",
    "    output_image = np.concatenate(images, axis=0)\n",
    "    cv2.imshow(window_title, output_image)"
   ]
  },
  {
   "cell_type": "code",
   "execution_count": 115,
   "metadata": {},
   "outputs": [
    {
     "name": "stdout",
     "output_type": "stream",
     "text": [
      "[[145.          1.6057029]]\n"
     ]
    },
    {
     "ename": "IndexError",
     "evalue": "list index out of range",
     "output_type": "error",
     "traceback": [
      "\u001b[1;31m---------------------------------------------------------------------------\u001b[0m",
      "\u001b[1;31mIndexError\u001b[0m                                Traceback (most recent call last)",
      "Cell \u001b[1;32mIn[115], line 23\u001b[0m\n\u001b[0;32m     20\u001b[0m cv2\u001b[38;5;241m.\u001b[39mcreateTrackbar(\u001b[38;5;124m'\u001b[39m\u001b[38;5;124mMin Line Length h\u001b[39m\u001b[38;5;124m'\u001b[39m, threshold_window, \u001b[38;5;241m30\u001b[39m, \u001b[38;5;241m500\u001b[39m, show_detection)\n\u001b[0;32m     21\u001b[0m cv2\u001b[38;5;241m.\u001b[39mcreateTrackbar(\u001b[38;5;124m'\u001b[39m\u001b[38;5;124mMax Gap h\u001b[39m\u001b[38;5;124m'\u001b[39m, threshold_window, \u001b[38;5;241m10\u001b[39m, \u001b[38;5;241m500\u001b[39m, show_detection)\n\u001b[1;32m---> 23\u001b[0m show_detection(\u001b[38;5;241m0\u001b[39m)\n\u001b[0;32m     24\u001b[0m cv2\u001b[38;5;241m.\u001b[39mwaitKey(\u001b[38;5;241m0\u001b[39m)\n\u001b[0;32m     25\u001b[0m cv2\u001b[38;5;241m.\u001b[39mdestroyAllWindows()\n",
      "Cell \u001b[1;32mIn[115], line 14\u001b[0m, in \u001b[0;36mshow_detection\u001b[1;34m(val)\u001b[0m\n\u001b[0;32m     12\u001b[0m min_length_h\u001b[38;5;241m=\u001b[39m cv2\u001b[38;5;241m.\u001b[39mgetTrackbarPos(\u001b[38;5;124m'\u001b[39m\u001b[38;5;124mMin Line Length h\u001b[39m\u001b[38;5;124m'\u001b[39m, threshold_window)\n\u001b[0;32m     13\u001b[0m max_gap_h \u001b[38;5;241m=\u001b[39m cv2\u001b[38;5;241m.\u001b[39mgetTrackbarPos(\u001b[38;5;124m'\u001b[39m\u001b[38;5;124mMax Gap h\u001b[39m\u001b[38;5;124m'\u001b[39m, threshold_window)\n\u001b[1;32m---> 14\u001b[0m plot_edge_detection(threshold1, threshold2, min_length_v, max_gap_v, min_length_h, max_gap_h, img)\n",
      "Cell \u001b[1;32mIn[114], line 38\u001b[0m, in \u001b[0;36mplot_edge_detection\u001b[1;34m(threshold_1, threshold_2, min_length_v, max_gap_v, min_length_h, max_gap_h, img)\u001b[0m\n\u001b[0;32m     34\u001b[0m \u001b[38;5;28mprint\u001b[39m(vertical_lines[\u001b[38;5;241m0\u001b[39m])\n\u001b[0;32m     37\u001b[0m vertical_lines \u001b[38;5;241m=\u001b[39m filtered_lines(vertical_lines, \u001b[38;5;28;01mFalse\u001b[39;00m)\n\u001b[1;32m---> 38\u001b[0m \u001b[38;5;28mprint\u001b[39m(vertical_lines[\u001b[38;5;241m0\u001b[39m])\n\u001b[0;32m     40\u001b[0m horizontal_lines \u001b[38;5;241m=\u001b[39m cv2\u001b[38;5;241m.\u001b[39mHoughLinesP(prep_2, \u001b[38;5;241m1\u001b[39m, np\u001b[38;5;241m.\u001b[39mpi\u001b[38;5;241m/\u001b[39m\u001b[38;5;241m180\u001b[39m, min_length_h, max_gap_h)\n\u001b[0;32m     41\u001b[0m horizontal_lines \u001b[38;5;241m=\u001b[39m filtered_lines(horizontal_lines, \u001b[38;5;28;01mTrue\u001b[39;00m)\n",
      "\u001b[1;31mIndexError\u001b[0m: list index out of range"
     ]
    }
   ],
   "source": [
    "threshold_window = 'Thresholds'\n",
    "cv2.namedWindow(threshold_window, cv2.WINDOW_NORMAL)\n",
    "cv2.resizeWindow(threshold_window, 400, 100)\n",
    "\n",
    "img = cv2.imread('selection/18404_0_0_5_29_31_27_7.jpg')\n",
    "\n",
    "def show_detection(val):\n",
    "    threshold1 = cv2.getTrackbarPos('Threshold 1', threshold_window)\n",
    "    threshold2 = cv2.getTrackbarPos('Threshold 2', threshold_window)\n",
    "    min_length_v = cv2.getTrackbarPos('Min Line Length v', threshold_window)\n",
    "    max_gap_v = cv2.getTrackbarPos('Max Gap v', threshold_window)\n",
    "    min_length_h= cv2.getTrackbarPos('Min Line Length h', threshold_window)\n",
    "    max_gap_h = cv2.getTrackbarPos('Max Gap h', threshold_window)\n",
    "    plot_edge_detection(threshold1, threshold2, min_length_v, max_gap_v, min_length_h, max_gap_h, img)\n",
    "\n",
    "cv2.createTrackbar('Threshold 1', threshold_window, 250, 500, show_detection)\n",
    "cv2.createTrackbar('Threshold 2', threshold_window, 250, 500, show_detection)\n",
    "cv2.createTrackbar('Min Line Length v', threshold_window, 30, 500, show_detection)\n",
    "cv2.createTrackbar('Max Gap v', threshold_window, 10, 500, show_detection)\n",
    "cv2.createTrackbar('Min Line Length h', threshold_window, 30, 500, show_detection)\n",
    "cv2.createTrackbar('Max Gap h', threshold_window, 10, 500, show_detection)\n",
    "\n",
    "show_detection(0)\n",
    "cv2.waitKey(0)\n",
    "cv2.destroyAllWindows()"
   ]
  }
 ],
 "metadata": {
  "kernelspec": {
   "display_name": "base",
   "language": "python",
   "name": "python3"
  },
  "language_info": {
   "codemirror_mode": {
    "name": "ipython",
    "version": 3
   },
   "file_extension": ".py",
   "mimetype": "text/x-python",
   "name": "python",
   "nbconvert_exporter": "python",
   "pygments_lexer": "ipython3",
   "version": "3.11.5"
  }
 },
 "nbformat": 4,
 "nbformat_minor": 2
}
